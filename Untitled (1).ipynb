{
 "cells": [
  {
   "cell_type": "code",
   "execution_count": 1,
   "id": "6781f81e-5048-4d88-9d08-e2cd44ee932d",
   "metadata": {},
   "outputs": [
    {
     "name": "stdout",
     "output_type": "stream",
     "text": [
      "number\t square\t cube\n",
      "0\t 0\t 0\n",
      "1\t 1\t 1\n",
      "2\t 4\t 8\n",
      "3\t 9\t 27\n",
      "4\t 16\t 64\n",
      "5\t 25\t 125\n"
     ]
    }
   ],
   "source": [
    "# 2.8 Table of Squares and Cubes\n",
    "print('number\\t square\\t cube')\n",
    "for number in range(6):\n",
    "    square = number ** 2\n",
    "    cube = number ** 3\n",
    "    print(f'{number}\\t {square}\\t {cube}')\n"
   ]
  },
  {
   "cell_type": "code",
   "execution_count": null,
   "id": "2a7e12ef-e298-4261-b258-0081de3ed2d9",
   "metadata": {},
   "outputs": [],
   "source": []
  }
 ],
 "metadata": {
  "kernelspec": {
   "display_name": "Python 3 (ipykernel)",
   "language": "python",
   "name": "python3"
  },
  "language_info": {
   "codemirror_mode": {
    "name": "ipython",
    "version": 3
   },
   "file_extension": ".py",
   "mimetype": "text/x-python",
   "name": "python",
   "nbconvert_exporter": "python",
   "pygments_lexer": "ipython3",
   "version": "3.12.4"
  }
 },
 "nbformat": 4,
 "nbformat_minor": 5
}
